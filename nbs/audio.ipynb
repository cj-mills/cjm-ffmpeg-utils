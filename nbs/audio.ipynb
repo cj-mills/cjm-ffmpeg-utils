{
 "cells": [
  {
   "cell_type": "markdown",
   "id": "61db8b5c",
   "metadata": {},
   "source": [
    "# Audio Processing\n",
    "\n",
    "> Audio extraction, conversion, and processing functions"
   ]
  },
  {
   "cell_type": "code",
   "execution_count": null,
   "id": "ee461193",
   "metadata": {},
   "outputs": [],
   "source": [
    "#| default_exp audio"
   ]
  },
  {
   "cell_type": "code",
   "execution_count": null,
   "id": "dac0cdfb",
   "metadata": {},
   "outputs": [],
   "source": [
    "#| hide\n",
    "from nbdev.showdoc import *"
   ]
  },
  {
   "cell_type": "code",
   "execution_count": null,
   "id": "1a838aad",
   "metadata": {},
   "outputs": [],
   "source": [
    "#| export\n",
    "from pathlib import Path\n",
    "import subprocess\n",
    "from typing import Union\n",
    "from cjm_ffmpeg_utils.core import get_audio_codec\n",
    "from cjm_ffmpeg_utils.media_info import get_media_duration, get_audio_info_ffmpeg\n",
    "from cjm_ffmpeg_utils.execution import run_ffmpeg_with_progress"
   ]
  },
  {
   "cell_type": "markdown",
   "id": "bba6f7d7",
   "metadata": {},
   "source": [
    "## Audio Extraction"
   ]
  },
  {
   "cell_type": "code",
   "execution_count": null,
   "id": "bb29df0b",
   "metadata": {},
   "outputs": [],
   "source": [
    "#| export\n",
    "def extract_audio(input_path: Path, # Path to the input video file\n",
    "                  output_path: Path, # Path for the output audio file\n",
    "                  audio_format: str = 'mp3', # Output audio format (mp3, wav, flac, aac, etc.)\n",
    "                  verbose: bool = False # If True, shows detailed ffmpeg output\n",
    "                  ):\n",
    "    \"\"\"\n",
    "    Extract audio from a video file using ffmpeg.\n",
    "    \"\"\"\n",
    "    # Check if input file exists\n",
    "    if not input_path.exists():\n",
    "        raise FileNotFoundError(f\"Input file not found: {input_path}\")\n",
    "    \n",
    "    # Get duration of input file\n",
    "    total_duration = get_media_duration(input_path)\n",
    "    \n",
    "    # Ensure output path has correct extension\n",
    "    if not str(output_path).endswith(f'.{audio_format}'):\n",
    "        output_path = output_path.with_suffix(f'.{audio_format}')\n",
    "    \n",
    "    # FFmpeg command to extract audio\n",
    "    cmd = [\n",
    "        'ffmpeg',\n",
    "        '-i', str(input_path),           # Input video file\n",
    "        '-vn',                           # No video (audio only)\n",
    "        '-acodec', 'copy' if audio_format == 'original' else get_audio_codec(audio_format),  # Audio codec\n",
    "        '-progress', 'pipe:2',           # Send progress to stderr\n",
    "        '-y',                            # Overwrite output file if it exists\n",
    "        str(output_path)                 # Output audio file\n",
    "    ]\n",
    "    \n",
    "    # Add format-specific options\n",
    "    if audio_format == 'mp3':\n",
    "        cmd.extend(['-ab', '192k'])      # Set bitrate for MP3\n",
    "    elif audio_format == 'wav':\n",
    "        cmd.extend(['-ar', '44100'])     # Set sample rate for WAV\n",
    "    elif audio_format == 'flac':\n",
    "        cmd.extend(['-compression_level', '5'])  # FLAC compression\n",
    "    \n",
    "    # Run ffmpeg with progress bar\n",
    "    run_ffmpeg_with_progress(\n",
    "        cmd=cmd,\n",
    "        total_duration=total_duration,\n",
    "        description=\"Extracting audio\",\n",
    "        verbose=verbose\n",
    "    )\n",
    "    \n",
    "    print(f\"\\nSuccessfully extracted audio to {audio_format.upper()} format.\")"
   ]
  },
  {
   "cell_type": "markdown",
   "id": "4fd55295",
   "metadata": {},
   "source": [
    "## Audio Downsampling"
   ]
  },
  {
   "cell_type": "code",
   "execution_count": null,
   "id": "b8b26f5f",
   "metadata": {},
   "outputs": [],
   "source": [
    "#| export\n",
    "def downsample_audio(input_path: Path, # Path to the input audio file\n",
    "                     output_path: Path, # Path for the output file\n",
    "                     sample_rate: Union[int, str] = \"16k\", # Audio bitrate\n",
    "                     channels: Union[int, str] = \"1\", # Audio channels\n",
    "                     overwrite: bool = True, # Overwrite existing output file\n",
    "                     verbose: bool = False # If True, shows detailed ffmpeg output\n",
    "                    ):\n",
    "    \"\"\"\n",
    "    Downsample an audio file to 16kbps and single channel using ffmpeg.\n",
    "    \"\"\"\n",
    "    # Get duration of input file\n",
    "    total_duration = get_media_duration(input_path)\n",
    "    \n",
    "    # FFmpeg command to downsample to 16kbps mono\n",
    "    cmd = [\n",
    "        'ffmpeg',\n",
    "        '-i', str(input_path),           # Input file\n",
    "        '-ac', f'{channels}',            # Set audio channels to 1 (mono)\n",
    "        '-ab', f'{sample_rate}',         # Set audio bitrate to 16kbps\n",
    "        '-progress', 'pipe:2',           # Send progress to stderr\n",
    "        str(output_path)                 # Output file\n",
    "    ]\n",
    "    \n",
    "    if overwrite:\n",
    "        cmd.append('-y') # Overwrite output file if it exists\n",
    "    \n",
    "    # Run ffmpeg with progress bar\n",
    "    run_ffmpeg_with_progress(\n",
    "        cmd=cmd,\n",
    "        total_duration=total_duration,\n",
    "        description=\"Downsampling\",\n",
    "        verbose=verbose\n",
    "    )\n",
    "    \n",
    "    print(f\"\\nSuccessfully downsampled audio.\")"
   ]
  },
  {
   "cell_type": "markdown",
   "id": "8ed4d606",
   "metadata": {},
   "source": [
    "## Audio Format Conversion"
   ]
  },
  {
   "cell_type": "code",
   "execution_count": null,
   "id": "6aac1809",
   "metadata": {},
   "outputs": [],
   "source": [
    "#| export\n",
    "def convert_to_mp3(input_path: Path, # Path to the input audio file\n",
    "                   output_path: Path, # Path where the MP3 file will be saved\n",
    "                   bitrate: str = \"128k\", # Audio bitrate for the output MP3 file\n",
    "                   verbose: bool = False # Whether to display verbose output during conversion\n",
    "                   ) -> Path: # Path to the converted MP3 file\n",
    "    \"\"\"\n",
    "    Convert an audio file to MP3 format.\n",
    "    \"\"\"\n",
    "    # Get audio duration (note: fixed typo from get_audio_duration to get_media_duration)\n",
    "    total_duration = get_media_duration(input_path)\n",
    "    \n",
    "    cmd = [\n",
    "        'ffmpeg',\n",
    "        '-i', str(input_path),\n",
    "        '-codec:a', 'libmp3lame',\n",
    "        '-b:a', bitrate,\n",
    "        '-progress', 'pipe:2',\n",
    "        '-y',\n",
    "        str(output_path)\n",
    "    ]\n",
    "    \n",
    "    run_ffmpeg_with_progress(\n",
    "        cmd=cmd,\n",
    "        total_duration=total_duration,\n",
    "        description=\"Converting to MP3\",\n",
    "        verbose=verbose\n",
    "    )\n",
    "    \n",
    "    print(f\"\\nSuccessfully converted to MP3.\")\n",
    "    \n",
    "    return output_path"
   ]
  },
  {
   "cell_type": "markdown",
   "id": "f9013fc5",
   "metadata": {},
   "source": [
    "## Audio Segmentation"
   ]
  },
  {
   "cell_type": "code",
   "execution_count": null,
   "id": "8afc079b",
   "metadata": {},
   "outputs": [],
   "source": [
    "#| export\n",
    "def extract_audio_segment(input_path: Path, # Path to the input audio file\n",
    "                          output_path: Path, # Path where the extracted segment will be saved\n",
    "                          start_time: str, # Start time in format \"HH:MM:SS\" or seconds\n",
    "                          duration: str, # Duration in format \"HH:MM:SS\" or seconds\n",
    "                          verbose: bool = False, # Whether to show verbose output\n",
    "                          pbar: bool = False # Whether to show a progress bar\n",
    "                        ):\n",
    "    \"\"\"\n",
    "    Extract a segment from an audio file.\n",
    "    \"\"\"\n",
    "    # For segments, we can calculate the expected duration\n",
    "    try:\n",
    "        # Try to parse duration as seconds first\n",
    "        segment_duration = float(duration)\n",
    "    except ValueError:\n",
    "        # If that fails, assume it's in HH:MM:SS format\n",
    "        time_parts = duration.split(':')\n",
    "        if len(time_parts) == 3:\n",
    "            hours = float(time_parts[0])\n",
    "            minutes = float(time_parts[1])\n",
    "            seconds = float(time_parts[2])\n",
    "            segment_duration = hours * 3600 + minutes * 60 + seconds\n",
    "        else:\n",
    "            segment_duration = None\n",
    "    \n",
    "    cmd = [\n",
    "        'ffmpeg',\n",
    "        '-i', str(input_path),\n",
    "        '-ss', start_time,\n",
    "        '-t', duration,\n",
    "        '-progress', 'pipe:2',\n",
    "        '-y',\n",
    "        str(output_path)\n",
    "    ]\n",
    "\n",
    "    if pbar:\n",
    "        run_ffmpeg_with_progress(\n",
    "            cmd=cmd,\n",
    "            total_duration=segment_duration,\n",
    "            description=\"Extracting segment\",\n",
    "            verbose=verbose\n",
    "        )\n",
    "    else:\n",
    "        result = subprocess.run(\n",
    "            cmd,\n",
    "            stdout=subprocess.DEVNULL,\n",
    "            stderr=subprocess.PIPE,\n",
    "            text=True\n",
    "        )\n",
    "\n",
    "        if result.returncode == 0:\n",
    "            print(f\"Successfully extracted audio segment.\")\n",
    "        else:\n",
    "            raise subprocess.CalledProcessError(result.returncode, cmd)"
   ]
  },
  {
   "cell_type": "markdown",
   "id": "8450434e",
   "metadata": {},
   "source": [
    "## Testing"
   ]
  },
  {
   "cell_type": "code",
   "execution_count": null,
   "id": "2115d4f6",
   "metadata": {},
   "outputs": [
    {
     "data": {
      "application/vnd.jupyter.widget-view+json": {
       "model_id": "e7e2dd3d98d84114b990271cb22bc0f3",
       "version_major": 2,
       "version_minor": 0
      },
      "text/plain": [
       "Extracting audio:   0%|          | 0.0/5.0s [00:00<?]"
      ]
     },
     "metadata": {},
     "output_type": "display_data"
    },
    {
     "name": "stdout",
     "output_type": "stream",
     "text": [
      "\n",
      "Successfully extracted audio to MP3 format.\n"
     ]
    },
    {
     "data": {
      "application/vnd.jupyter.widget-view+json": {
       "model_id": "94b6a0ee4ac3445dab2f1c8aa4dcfd2e",
       "version_major": 2,
       "version_minor": 0
      },
      "text/plain": [
       "Downsampling:   0%|          | 0.0/5.0s [00:00<?]"
      ]
     },
     "metadata": {},
     "output_type": "display_data"
    },
    {
     "name": "stdout",
     "output_type": "stream",
     "text": [
      "\n",
      "Successfully downsampled audio.\n"
     ]
    },
    {
     "data": {
      "application/vnd.jupyter.widget-view+json": {
       "model_id": "42d86ca62adf48cd8cb92648e34d63b7",
       "version_major": 2,
       "version_minor": 0
      },
      "text/plain": [
       "Extracting segment:   0%|          | 0.0/30.0s [00:00<?]"
      ]
     },
     "metadata": {},
     "output_type": "display_data"
    }
   ],
   "source": [
    "#|eval: false\n",
    "from cjm_ffmpeg_utils.core import FFMPEG_AVAILABLE\n",
    "\n",
    "if FFMPEG_AVAILABLE:\n",
    "    # Test with a video file\n",
    "    test_video = Path(\"alpha_meditation_video.mp4\")\n",
    "    if test_video.exists():\n",
    "        # Extract audio\n",
    "        audio_output = test_video.with_suffix(\".mp3\")\n",
    "        extract_audio(test_video, audio_output, audio_format=\"mp3\")\n",
    "        \n",
    "        # Downsample audio\n",
    "        downsampled = audio_output.with_stem(f\"{audio_output.stem}_downsampled\")\n",
    "        downsample_audio(audio_output, downsampled)\n",
    "        \n",
    "        # Extract a segment\n",
    "        segment = audio_output.with_stem(f\"{audio_output.stem}_segment\")\n",
    "        extract_audio_segment(audio_output, segment, \"0\", \"30\", pbar=True)"
   ]
  },
  {
   "cell_type": "code",
   "execution_count": null,
   "id": "0cce0443",
   "metadata": {},
   "outputs": [],
   "source": [
    "#| hide\n",
    "import nbdev; nbdev.nbdev_export()"
   ]
  }
 ],
 "metadata": {
  "kernelspec": {
   "display_name": "python3",
   "language": "python",
   "name": "python3"
  }
 },
 "nbformat": 4,
 "nbformat_minor": 5
}
