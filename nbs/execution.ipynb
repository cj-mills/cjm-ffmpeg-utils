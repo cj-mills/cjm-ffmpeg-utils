{
 "cells": [
  {
   "cell_type": "markdown",
   "id": "616147fb",
   "metadata": {},
   "source": [
    "# Execution\n",
    "\n",
    "> FFmpeg command execution with progress tracking"
   ]
  },
  {
   "cell_type": "code",
   "execution_count": null,
   "id": "51dc7837",
   "metadata": {},
   "outputs": [],
   "source": [
    "#| default_exp execution"
   ]
  },
  {
   "cell_type": "code",
   "execution_count": null,
   "id": "54709956",
   "metadata": {},
   "outputs": [],
   "source": [
    "#| hide\n",
    "from nbdev.showdoc import *"
   ]
  },
  {
   "cell_type": "code",
   "execution_count": null,
   "id": "d539eec4",
   "metadata": {},
   "outputs": [],
   "source": [
    "#| export\n",
    "from typing import List, Optional, Callable\n",
    "import subprocess\n",
    "from tqdm.auto import tqdm"
   ]
  },
  {
   "cell_type": "markdown",
   "id": "e598b66f",
   "metadata": {},
   "source": [
    "## Progress Parsing"
   ]
  },
  {
   "cell_type": "code",
   "execution_count": null,
   "id": "cf20d03c",
   "metadata": {},
   "outputs": [],
   "source": [
    "#| export\n",
    "def parse_progress_line(line: str # A line of stderr output from ffmpeg\n",
    "                        ) -> Optional[float]: # Current time in seconds, or None if line doesn't contain progress info\n",
    "    \"\"\"\n",
    "    Parse a progress line from ffmpeg stderr output.\n",
    "    \"\"\"\n",
    "    # Look for time progress in format \"out_time_ms=123456789\"\n",
    "    if line.startswith('out_time_ms='):\n",
    "        try:\n",
    "            time_ms = int(line.strip().split('=')[1])\n",
    "            return time_ms / 1000000.0  # Convert microseconds to seconds\n",
    "        except (ValueError, IndexError):\n",
    "            pass\n",
    "    \n",
    "    # Alternative: look for time in format \"time=00:01:23.45\"\n",
    "    elif line.startswith('time='):\n",
    "        try:\n",
    "            time_str = line.strip().split('=')[1]\n",
    "            # Parse time format HH:MM:SS.ss\n",
    "            time_parts = time_str.split(':')\n",
    "            if len(time_parts) == 3:\n",
    "                hours = float(time_parts[0])\n",
    "                minutes = float(time_parts[1])\n",
    "                seconds = float(time_parts[2])\n",
    "                return hours * 3600 + minutes * 60 + seconds\n",
    "        except (ValueError, IndexError):\n",
    "            pass\n",
    "    \n",
    "    return None"
   ]
  },
  {
   "cell_type": "markdown",
   "id": "76d68cf0",
   "metadata": {},
   "source": [
    "## FFmpeg Execution with Progress"
   ]
  },
  {
   "cell_type": "code",
   "execution_count": null,
   "id": "89acbb42",
   "metadata": {},
   "outputs": [],
   "source": [
    "#| export\n",
    "def run_ffmpeg_with_progress(\n",
    "    cmd: List[str], # List containing the ffmpeg command and arguments\n",
    "    total_duration: Optional[float] = None, # Total duration in seconds for determinate progress, or None for indeterminate progress\n",
    "    description: str = \"Processing\", # Description text for the progress bar\n",
    "    verbose: bool = False, # If True, shows detailed ffmpeg output\n",
    "    progress_callback: Optional[Callable[[float], None]] = None # Optional callback function that receives current progress in seconds as an argument\n",
    ") -> None: # Raises FileNotFoundError if ffmpeg is not installed/found, or subprocess.CalledProcessError if ffmpeg command fails\n",
    "    \"\"\"\n",
    "    Run an ffmpeg command with a progress bar.\n",
    "    <br>\n",
    "    Raises:<br>\n",
    "    - FileNotFoundError: If input file doesn't exist<br>\n",
    "    - subprocess.CalledProcessError: If ffmpeg command fails<br>\n",
    "    - FileNotFoundError: If ffmpeg is not installed/found<br>    \n",
    "    \"\"\"\n",
    "    try:\n",
    "        # Initialize progress bar\n",
    "        if total_duration:\n",
    "            pbar = tqdm(\n",
    "                total=total_duration, \n",
    "                unit='s', \n",
    "                desc=description,\n",
    "                bar_format='{l_bar}{bar}| {n:.1f}/{total:.1f}s [{elapsed}<{remaining}]'\n",
    "            )\n",
    "        else:\n",
    "            pbar = tqdm(desc=description, unit='frames')\n",
    "        \n",
    "        # Run ffmpeg command with real-time progress\n",
    "        process = subprocess.Popen(\n",
    "            cmd,\n",
    "            stderr=subprocess.PIPE,\n",
    "            stdout=subprocess.PIPE,\n",
    "            text=True,\n",
    "            bufsize=1,\n",
    "            universal_newlines=True\n",
    "        )\n",
    "        \n",
    "        # Parse progress from stderr\n",
    "        while process.poll() is None:  # Continue while process is running\n",
    "            line = process.stderr.readline()\n",
    "            if not line:\n",
    "                continue\n",
    "                \n",
    "            if verbose:\n",
    "                print(line.strip())\n",
    "            \n",
    "            current_time = parse_progress_line(line)\n",
    "            if current_time is not None:\n",
    "                if total_duration:\n",
    "                    pbar.n = min(current_time, total_duration)\n",
    "                    pbar.refresh()\n",
    "                else:\n",
    "                    pbar.update(1)\n",
    "                \n",
    "                # Call progress callback if provided\n",
    "                if progress_callback:\n",
    "                    progress_callback(current_time)\n",
    "        \n",
    "        # Process any remaining stderr output\n",
    "        remaining_stderr = process.stderr.read()\n",
    "        if verbose and remaining_stderr:\n",
    "            print(remaining_stderr)\n",
    "        \n",
    "        # Get the return code\n",
    "        return_code = process.returncode\n",
    "        \n",
    "        # Ensure progress bar reaches 100% when done\n",
    "        if total_duration:\n",
    "            pbar.n = total_duration\n",
    "            pbar.refresh()\n",
    "        \n",
    "        pbar.close()\n",
    "        \n",
    "        if return_code != 0:\n",
    "            # Get any error output\n",
    "            stderr_output = remaining_stderr or \"\"\n",
    "            error_msg = f\"FFmpeg failed with return code {return_code}\"\n",
    "            if stderr_output:\n",
    "                error_msg += f\"\\nError output: {stderr_output}\"\n",
    "            raise subprocess.CalledProcessError(return_code, cmd, error_msg)\n",
    "            \n",
    "    except FileNotFoundError:\n",
    "        if 'pbar' in locals():\n",
    "            pbar.close()\n",
    "        raise FileNotFoundError(\n",
    "            \"ffmpeg not found. Please install ffmpeg and ensure it's in your PATH.\"\n",
    "        )\n",
    "    except Exception as e:\n",
    "        if 'pbar' in locals():\n",
    "            pbar.close()\n",
    "        raise"
   ]
  },
  {
   "cell_type": "markdown",
   "id": "1a2252d2",
   "metadata": {},
   "source": [
    "## Testing"
   ]
  },
  {
   "cell_type": "code",
   "execution_count": null,
   "id": "7bac9efd",
   "metadata": {},
   "outputs": [],
   "source": [
    "#|eval: false\n",
    "# Test progress line parsing\n",
    "test_line1 = \"out_time_ms=5000000\"\n",
    "assert parse_progress_line(test_line1) == 5.0\n",
    "\n",
    "test_line2 = \"time=00:01:30.00\"\n",
    "assert parse_progress_line(test_line2) == 90.0\n",
    "\n",
    "test_line3 = \"random line\"\n",
    "assert parse_progress_line(test_line3) is None"
   ]
  },
  {
   "cell_type": "code",
   "execution_count": null,
   "id": "c56c109a",
   "metadata": {},
   "outputs": [],
   "source": [
    "#| hide\n",
    "import nbdev; nbdev.nbdev_export()"
   ]
  }
 ],
 "metadata": {
  "kernelspec": {
   "display_name": "python3",
   "language": "python",
   "name": "python3"
  }
 },
 "nbformat": 4,
 "nbformat_minor": 5
}
