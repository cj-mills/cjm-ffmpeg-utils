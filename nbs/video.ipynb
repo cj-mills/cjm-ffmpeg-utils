{
 "cells": [
  {
   "cell_type": "markdown",
   "id": "5788ce7a",
   "metadata": {},
   "source": [
    "# Video Generation\n",
    "\n",
    "> Functions for generating test videos and audio files"
   ]
  },
  {
   "cell_type": "code",
   "execution_count": null,
   "id": "24dbaf65",
   "metadata": {},
   "outputs": [],
   "source": [
    "#| default_exp video"
   ]
  },
  {
   "cell_type": "code",
   "execution_count": null,
   "id": "0e403dac",
   "metadata": {},
   "outputs": [],
   "source": [
    "#| hide\n",
    "from nbdev.showdoc import *"
   ]
  },
  {
   "cell_type": "code",
   "execution_count": null,
   "id": "4a4fa4d8",
   "metadata": {},
   "outputs": [],
   "source": [
    "#| export\n",
    "from pathlib import Path\n",
    "from time import time\n",
    "import subprocess\n",
    "import wave\n",
    "import numpy as np"
   ]
  },
  {
   "cell_type": "markdown",
   "id": "ad36676f",
   "metadata": {},
   "source": [
    "## Video Generation with Binaural Audio"
   ]
  },
  {
   "cell_type": "code",
   "execution_count": null,
   "id": "ad91781c",
   "metadata": {},
   "outputs": [],
   "source": "#| export\ndef generate_video_with_binaural_audio(\n    filename: str, # Output video filename\n    duration: int = 60, # Video duration in seconds\n    video_pattern: str = \"mandelbrot\", # FFmpeg video pattern (mandelbrot, life, etc.)\n    wave_type: str = \"alpha\", # Brainwave type (delta, theta, alpha, beta, gamma)\n    base_freq: int = 200, # Base frequency in Hz\n    resolution: str = \"1920x1080\" # Video resolution\n) -> bool: # True if video was generated successfully, False otherwise\n    \"\"\"Generate test video with binaural beats audio.\"\"\"\n    \n    # Wave type frequencies\n    wave_freqs = {\n        'delta': 2, 'theta': 6, 'alpha': 10, 'beta': 20, 'gamma': 40\n    }\n    \n    beat_freq = wave_freqs.get(wave_type, 10)\n    left_freq = base_freq\n    right_freq = base_freq + beat_freq\n    \n    # Different filter configurations based on pattern\n    if video_pattern == \"mandelbrot\":\n        video_filter = f'mandelbrot=size={resolution}:rate=30'\n    elif video_pattern == \"life\":\n        video_filter = f'life=size={resolution}:rate=30'\n    else:\n        # For patterns that support duration parameter\n        video_filter = f'{video_pattern}=duration={duration}:size=1920x1080'\n    \n    cmd = [\n        'ffmpeg',\n        # Video input - use -t to limit duration\n        '-f', 'lavfi', '-i', video_filter,\n        '-t', str(duration),  # This controls the duration\n        # Left audio channel\n        '-f', 'lavfi', '-i', f'sine=frequency={left_freq}:duration={duration}',\n        # Right audio channel  \n        '-f', 'lavfi', '-i', f'sine=frequency={right_freq}:duration={duration}',\n        # Mix audio channels\n        '-filter_complex', '[1:a][2:a]join=inputs=2:channel_layout=stereo[a]',\n        '-map', '0:v', '-map', '[a]',\n        # Encoding\n        '-c:v', 'libx264', '-c:a', 'aac', '-b:a', '192k',\n        '-pix_fmt', 'yuv420p',\n        '-shortest',  # Stop when shortest input ends\n        '-async', '1',  # Audio sync\n        # Metadata\n        '-metadata', f'title={wave_type.title()} Wave Binaural Video',\n        '-metadata', f'comment=Binaural beats: {left_freq}Hz left, {right_freq}Hz right',\n        '-y', filename\n    ]\n    \n    try:\n        start_time = time()\n        subprocess.run(cmd, check=True, capture_output=True)\n        print(f\"Video with binaural audio generated: {filename}\")\n        print(f\"- Wave type: {wave_type} ({beat_freq}Hz)\")\n        print(f\"- Left channel: {left_freq}Hz, Right channel: {right_freq}Hz\")\n        end_time = time()\n        print(f\"Process took: {(end_time-start_time):.2f} seconds\")\n        return True\n    except subprocess.CalledProcessError as e:\n        print(f\"Error: {e}\")\n        return False"
  },
  {
   "cell_type": "markdown",
   "id": "ebe4fb9c",
   "metadata": {},
   "source": [
    "## Test Audio File Generation"
   ]
  },
  {
   "cell_type": "code",
   "execution_count": null,
   "id": "3721fac1",
   "metadata": {},
   "outputs": [],
   "source": "#| export\ndef generate_test_audio_file(\n    save_path: Path # Path where the test audio file will be saved\n) -> None: # No return value\n    \"\"\"Generate a test audio file with binaural beats.\"\"\"\n    # Generate 40Hz binaural beats for 3 minutes\n    sample_rate = 44100\n    duration = 180  # 3 minutes\n    base_frequency = 200  # Base frequency in Hz\n    beat_frequency = 40   # Binaural beat frequency in Hz\n    \n    # Calculate left and right ear frequencies\n    left_freq = base_frequency\n    right_freq = base_frequency + beat_frequency\n    \n    # Generate time array\n    t = np.linspace(0, duration, int(sample_rate * duration))\n    \n    # Generate left and right channel sine waves\n    left_channel = np.sin(2 * np.pi * left_freq * t)\n    right_channel = np.sin(2 * np.pi * right_freq * t)\n    \n    # Convert to 16-bit integers\n    left_channel = (left_channel * 32767 * 0.5).astype(np.int16)  # Reduced volume\n    right_channel = (right_channel * 32767 * 0.5).astype(np.int16)\n    \n    # Interleave left and right channels for stereo\n    stereo_audio = np.empty((left_channel.size + right_channel.size,), dtype=np.int16)\n    stereo_audio[0::2] = left_channel\n    stereo_audio[1::2] = right_channel\n    \n    # Save as stereo WAV file\n    with wave.open(str(save_path), 'w') as wav_file:\n        wav_file.setnchannels(2)  # Stereo\n        wav_file.setsampwidth(2)  # 2 bytes per sample\n        wav_file.setframerate(sample_rate)\n        wav_file.writeframes(stereo_audio.tobytes())\n\n    print(f\"Generated 40Hz binaural beats:\")\n    print(f\"- Left ear: {left_freq}Hz\")\n    print(f\"- Right ear: {right_freq}Hz\")\n    print(f\"- Beat frequency: {beat_frequency}Hz\")\n    print(f\"- Duration: {duration/60:.1f} minutes\")\n    print(f\"- File saved to: {save_path}\")"
  },
  {
   "cell_type": "markdown",
   "id": "3b5ec5dc",
   "metadata": {},
   "source": [
    "## Testing"
   ]
  },
  {
   "cell_type": "code",
   "execution_count": null,
   "id": "78e64b24",
   "metadata": {},
   "outputs": [
    {
     "name": "stdout",
     "output_type": "stream",
     "text": [
      "Video with binaural audio generated: alpha_meditation_video.mp4\n",
      "- Wave type: alpha (10Hz)\n",
      "- Left channel: 200Hz, Right channel: 210Hz\n",
      "Process took: 0.96 seconds\n"
     ]
    }
   ],
   "source": [
    "#|eval: false\n",
    "from cjm_ffmpeg_utils.core import FFMPEG_AVAILABLE\n",
    "\n",
    "if FFMPEG_AVAILABLE:\n",
    "    # Generate test video\n",
    "    test_video_path = Path(\"alpha_meditation_video.mp4\")\n",
    "    generate_video_with_binaural_audio(\n",
    "        test_video_path, \n",
    "        duration=5, \n",
    "        video_pattern=\"life\", \n",
    "        wave_type=\"alpha\", \n",
    "        resolution=\"1280x720\"\n",
    "    )"
   ]
  },
  {
   "cell_type": "code",
   "execution_count": null,
   "id": "d8c101b4",
   "metadata": {},
   "outputs": [
    {
     "name": "stdout",
     "output_type": "stream",
     "text": [
      "Generated 40Hz binaural beats:\n",
      "- Left ear: 200Hz\n",
      "- Right ear: 240Hz\n",
      "- Beat frequency: 40Hz\n",
      "- Duration: 3.0 minutes\n",
      "- File saved to: 40hz_binaural_beats.wav\n"
     ]
    }
   ],
   "source": [
    "#|eval: false\n",
    "# Generate test audio file\n",
    "test_audio_path = Path(\"40hz_binaural_beats.wav\")\n",
    "generate_test_audio_file(test_audio_path)"
   ]
  },
  {
   "cell_type": "code",
   "execution_count": null,
   "id": "532e6583",
   "metadata": {},
   "outputs": [],
   "source": [
    "#| hide\n",
    "import nbdev; nbdev.nbdev_export()"
   ]
  }
 ],
 "metadata": {
  "kernelspec": {
   "display_name": "python3",
   "language": "python",
   "name": "python3"
  }
 },
 "nbformat": 4,
 "nbformat_minor": 5
}
