{
 "cells": [
  {
   "cell_type": "markdown",
   "id": "e93f41d3",
   "metadata": {},
   "source": [
    "# Core\n",
    "\n",
    "> Core utilities and exceptions for FFmpeg operations"
   ]
  },
  {
   "cell_type": "code",
   "execution_count": null,
   "id": "362c51d7",
   "metadata": {},
   "outputs": [],
   "source": [
    "#| default_exp core"
   ]
  },
  {
   "cell_type": "code",
   "execution_count": null,
   "id": "aef8d6c4",
   "metadata": {},
   "outputs": [],
   "source": [
    "#| hide\n",
    "from nbdev.showdoc import *"
   ]
  },
  {
   "cell_type": "code",
   "execution_count": null,
   "id": "c3f056d7",
   "metadata": {},
   "outputs": [],
   "source": [
    "#| export\n",
    "from pathlib import Path\n",
    "import shutil\n",
    "import logging"
   ]
  },
  {
   "cell_type": "markdown",
   "id": "1aa1c2c0",
   "metadata": {},
   "source": [
    "## FFmpeg Availability Check"
   ]
  },
  {
   "cell_type": "code",
   "execution_count": null,
   "id": "7a40185f",
   "metadata": {},
   "outputs": [],
   "source": [
    "#| export\n",
    "#|eval: false\n",
    "# Verify FFmpeg installation\n",
    "FFMPEG_AVAILABLE = shutil.which(\"ffmpeg\") is not None\n",
    "if not FFMPEG_AVAILABLE:\n",
    "    logging.warning(\"FFmpeg not available - install system package (e.g., apt install ffmpeg, brew install ffmpeg, or download from https://ffmpeg.org/)\")"
   ]
  },
  {
   "cell_type": "markdown",
   "id": "8872760e",
   "metadata": {},
   "source": [
    "## Audio Processing Exceptions"
   ]
  },
  {
   "cell_type": "code",
   "execution_count": null,
   "id": "0bbab33b",
   "metadata": {},
   "outputs": [],
   "source": [
    "#| export\n",
    "class AudioProcessingError(Exception):\n",
    "    \"\"\"Base exception for audio processing errors\"\"\"\n",
    "    pass\n",
    "\n",
    "class AudioConversionError(Exception):\n",
    "    \"\"\"Raised when audio format conversion fails\"\"\"\n",
    "    pass"
   ]
  },
  {
   "cell_type": "markdown",
   "id": "b717bac5",
   "metadata": {},
   "source": [
    "## Audio Codec Mapping"
   ]
  },
  {
   "cell_type": "code",
   "execution_count": null,
   "id": "4fa6988b",
   "metadata": {},
   "outputs": [],
   "source": [
    "#| export\n",
    "def get_audio_codec(audio_format: str # The desired audio format\n",
    "                   ) -> str: # The ffmpeg codec name\n",
    "    \"\"\"\n",
    "    Get the appropriate audio codec for the given format.\n",
    "    \"\"\"\n",
    "    codec_map = {\n",
    "        'mp3': 'libmp3lame',\n",
    "        'wav': 'pcm_s16le',\n",
    "        'flac': 'flac',\n",
    "        'aac': 'aac',\n",
    "        'ogg': 'libvorbis',\n",
    "        'm4a': 'aac'\n",
    "    }\n",
    "    \n",
    "    return codec_map.get(audio_format.lower(), 'copy')"
   ]
  },
  {
   "cell_type": "code",
   "execution_count": null,
   "id": "97b68cf1",
   "metadata": {},
   "outputs": [
    {
     "data": {
      "text/plain": [
       "'libmp3lame'"
      ]
     },
     "execution_count": null,
     "metadata": {},
     "output_type": "execute_result"
    }
   ],
   "source": [
    "#|eval: false\n",
    "get_audio_codec('mp3')"
   ]
  },
  {
   "cell_type": "code",
   "execution_count": null,
   "id": "a097d133",
   "metadata": {},
   "outputs": [],
   "source": [
    "#| hide\n",
    "import nbdev; nbdev.nbdev_export()"
   ]
  }
 ],
 "metadata": {
  "kernelspec": {
   "display_name": "python3",
   "language": "python",
   "name": "python3"
  }
 },
 "nbformat": 4,
 "nbformat_minor": 5
}
