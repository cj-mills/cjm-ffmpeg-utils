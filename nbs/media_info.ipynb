{
 "cells": [
  {
   "cell_type": "markdown",
   "id": "caf17d1d",
   "metadata": {},
   "source": [
    "# Media Info\n",
    "\n",
    "> Functions for getting media information and managing metadata"
   ]
  },
  {
   "cell_type": "code",
   "execution_count": null,
   "id": "b6c763c0",
   "metadata": {},
   "outputs": [],
   "source": [
    "#| default_exp media_info"
   ]
  },
  {
   "cell_type": "code",
   "execution_count": null,
   "id": "0feef0ae",
   "metadata": {},
   "outputs": [],
   "source": [
    "#| hide\n",
    "from nbdev.showdoc import *"
   ]
  },
  {
   "cell_type": "code",
   "execution_count": null,
   "id": "dfb5f89d",
   "metadata": {},
   "outputs": [],
   "source": [
    "#| export\n",
    "from pathlib import Path\n",
    "from typing import Dict, Optional\n",
    "from datetime import datetime\n",
    "import json\n",
    "import os\n",
    "import subprocess\n",
    "import tempfile"
   ]
  },
  {
   "cell_type": "markdown",
   "id": "e7fe4434",
   "metadata": {},
   "source": [
    "## Media Duration"
   ]
  },
  {
   "cell_type": "code",
   "execution_count": null,
   "id": "8548bb58",
   "metadata": {},
   "outputs": [],
   "source": [
    "#| export\n",
    "def get_media_duration(file_path: Path # Path to the media file\n",
    "                      ) -> Optional[float]: # Duration in seconds, or None if duration cannot be determined\n",
    "    \"\"\"\n",
    "    Get the duration of a media file using ffprobe.\n",
    "    \"\"\"\n",
    "    duration_cmd = [\n",
    "        'ffprobe',\n",
    "        '-v', 'quiet',\n",
    "        '-show_entries', 'format=duration',\n",
    "        '-of', 'csv=p=0',\n",
    "        str(file_path)\n",
    "    ]\n",
    "    \n",
    "    try:\n",
    "        duration_result = subprocess.run(\n",
    "            duration_cmd,\n",
    "            check=True,\n",
    "            capture_output=True,\n",
    "            text=True\n",
    "        )\n",
    "        return float(duration_result.stdout.strip())\n",
    "    except (subprocess.CalledProcessError, ValueError, FileNotFoundError):\n",
    "        return None"
   ]
  },
  {
   "cell_type": "markdown",
   "id": "3dd9d84d",
   "metadata": {},
   "source": [
    "## Audio Information"
   ]
  },
  {
   "cell_type": "code",
   "execution_count": null,
   "id": "f4dd5d76",
   "metadata": {},
   "outputs": [],
   "source": "#| export\ndef get_audio_info_ffmpeg(\n    file_path: Path  # Path to audio file\n) -> Optional[Dict[str, any]]: # Dictionary containing audio info, or None if extraction fails\n    \"\"\"Get basic audio file information including title if available.\"\"\"\n    \n    cmd = [\n        'ffprobe',\n        '-v', 'quiet',\n        '-show_entries', \n        'stream=codec_type,codec_name,duration,sample_rate,channels,tags:format=duration,tags:format_tags',\n        '-show_format',\n        '-show_streams',\n        '-of', 'json',\n        str(file_path)\n    ]\n        \n    try:\n        result_subprocess = subprocess.run(\n            cmd,\n            check=True,\n            capture_output=True,\n            text=True\n        )\n        \n        probe_data = json.loads(result_subprocess.stdout)\n        \n        # Find the audio stream\n        audio_stream = next((stream for stream in probe_data.get('streams', []) \n                            if stream.get('codec_type') == 'audio'), None)\n        \n        processed_result = {}\n        \n        if audio_stream:\n            # Get duration from stream, fallback to format duration\n            duration = float(audio_stream.get('duration', \n                            probe_data.get('format', {}).get('duration', 0)))\n            sample_rate = int(audio_stream.get('sample_rate', 0))\n            channels = int(audio_stream.get('channels', 0))\n            \n            processed_result.update({\n                'duration_seconds': duration,\n                'sample_rate': sample_rate,\n                'channels': channels,\n                'format': file_path.suffix.lower() if hasattr(file_path, 'suffix') else '',\n                'codec': audio_stream.get('codec_name'),\n                'method': 'subprocess'\n            })\n            \n            # Extract title from ffmpeg metadata\n            # Check both format tags and stream tags\n            all_tags = {}\n            \n            # Get format tags\n            format_info = probe_data.get('format', {})\n            if 'tags' in format_info:\n                all_tags.update(format_info['tags'])\n            \n            # Get stream tags (some metadata might be stored here)\n            if audio_stream and 'tags' in audio_stream:\n                all_tags.update(audio_stream['tags'])\n\n            # Debug: print available tags\n            # print(f\"Available tags: {list(all_tags.keys())}\")\n            \n            if all_tags:\n                # Try different common title tag names (case-insensitive)\n                title_keys = ['title', 'Title', 'TITLE', 'TIT2']\n                for title_key in title_keys:\n                    # Check for exact match first\n                    if title_key in all_tags:\n                        processed_result['title'] = all_tags[title_key]\n                        break\n                else:\n                    # If no exact match, do case-insensitive search\n                    tags_lower = {k.lower(): v for k, v in all_tags.items()}\n                    for title_key in title_keys:\n                        if title_key.lower() in tags_lower:\n                            processed_result['title'] = tags_lower[title_key.lower()]\n                            break\n                    # If no title found in metadata, use filename without extension as fallback\n                    if 'title' not in processed_result:\n                        processed_result['title'] = file_path.stem\n\n                \n        else:\n            processed_result = None\n            \n    except (subprocess.CalledProcessError, ValueError, FileNotFoundError, json.JSONDecodeError):\n        processed_result = None\n\n    return processed_result"
  },
  {
   "cell_type": "markdown",
   "id": "bd1d0d3f",
   "metadata": {},
   "source": [
    "## Metadata Management"
   ]
  },
  {
   "cell_type": "code",
   "execution_count": null,
   "id": "617b3c14",
   "metadata": {},
   "outputs": [],
   "source": "#| export\ndef add_metadata_with_ffmpeg(\n    input_file: Path, # Path to input audio file\n    metadata: Dict[str, str] # Dictionary of metadata key-value pairs\n) -> bool: # True if metadata was added successfully, False otherwise\n    \"\"\"Add metadata to audio file using FFmpeg.\"\"\"\n    # Create temporary file\n    temp_fd, temp_path = tempfile.mkstemp(suffix='.wav', dir=input_file.parent)\n    os.close(temp_fd)\n    \n    cmd = ['ffmpeg', '-i', input_file]\n    \n    # Add metadata parameters\n    for key, value in metadata.items():\n        cmd.extend(['-metadata', f'{key}={value}'])\n    \n    # Output to temporary file\n    cmd.extend(['-c', 'copy', '-y', temp_path])\n    \n    try:\n        subprocess.run(cmd, check=True, capture_output=True)\n        \n        # Replace original file with temporary file\n        os.replace(temp_path, input_file)\n        print(f\"Metadata added to {input_file}\")\n        return True\n    except subprocess.CalledProcessError as e:\n        print(f\"Error adding metadata: {e}\")\n        # Clean up temp file if it exists\n        if os.path.exists(temp_path):\n            os.remove(temp_path)\n        return False"
  },
  {
   "cell_type": "markdown",
   "id": "0919e4f9",
   "metadata": {},
   "source": [
    "## Testing"
   ]
  },
  {
   "cell_type": "code",
   "execution_count": null,
   "id": "512697ce",
   "metadata": {},
   "outputs": [],
   "source": [
    "#|eval: false\n",
    "# Example usage of metadata functions\n",
    "from datetime import datetime\n",
    "\n",
    "test_audio_path = Path(\"test_audio.wav\")\n",
    "if test_audio_path.exists():\n",
    "    metadata = {\n",
    "        'title': 'Test Audio',\n",
    "        'artist': 'Python Audio Generator',\n",
    "        'album': 'Test Album',\n",
    "        'date': f'{datetime.today().year}',\n",
    "        'genre': 'Test',\n",
    "        'comment': 'Test audio file with metadata'\n",
    "    }\n",
    "    \n",
    "    add_metadata_with_ffmpeg(test_audio_path, metadata)\n",
    "    info = get_audio_info_ffmpeg(test_audio_path)\n",
    "    if info:\n",
    "        print(f\"Audio info: {info}\")"
   ]
  },
  {
   "cell_type": "code",
   "execution_count": null,
   "id": "b02f53e4",
   "metadata": {},
   "outputs": [],
   "source": [
    "#| hide\n",
    "import nbdev; nbdev.nbdev_export()"
   ]
  }
 ],
 "metadata": {
  "kernelspec": {
   "display_name": "python3",
   "language": "python",
   "name": "python3"
  }
 },
 "nbformat": 4,
 "nbformat_minor": 5
}
